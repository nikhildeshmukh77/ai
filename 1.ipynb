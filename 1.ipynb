{
 "cells": [
  {
   "cell_type": "code",
   "execution_count": 11,
   "id": "bbfc186c-8f1e-456e-8a26-e508ab5d70ca",
   "metadata": {},
   "outputs": [
    {
     "name": "stdout",
     "output_type": "stream",
     "text": [
      "0\n",
      "1\n",
      "3\n",
      "2\n",
      "4\n"
     ]
    }
   ],
   "source": [
    "#DFS\n",
    "\n",
    "g = {\n",
    "    0:[1,2],\n",
    "    1:[0,3,4],\n",
    "    2:[3,0],\n",
    "    3:[2,1,4],\n",
    "    4:[3,1]\n",
    "}\n",
    "\n",
    "def dfs(g,s):\n",
    "    vis[s] = 1;\n",
    "    print(s)\n",
    "    for c in g[s]:\n",
    "        if not vis[c]:\n",
    "            dfs(g,c)\n",
    "\n",
    "vis = [0] * 5\n",
    "dfs(g,0)\n",
    "\n",
    "\n",
    "def dfs (g,s):\n",
    "    vis[s] = 1\n",
    "    print(s)\n",
    "    for c in g[s]:\n",
    "        if not vis[c]:\n",
    "            dfs(g,c)"
   ]
  },
  {
   "cell_type": "code",
   "execution_count": 12,
   "id": "97289783-16c4-4ca9-a1f3-7b672f23d081",
   "metadata": {},
   "outputs": [
    {
     "name": "stdout",
     "output_type": "stream",
     "text": [
      "0\n",
      "1\n",
      "2\n",
      "3\n",
      "4\n"
     ]
    }
   ],
   "source": [
    "#BFS\n",
    "\n",
    "# def bfs(g,s):\n",
    "#     q = [s]\n",
    "#     vis = [s]\n",
    "#     while q:\n",
    "#         cur = q.pop(0)\n",
    "#         print(cur)\n",
    "#         for c in g[cur]:\n",
    "#             if c not in vis:\n",
    "#                 q.append(c)\n",
    "#                 vis.append(c)\n",
    "\n",
    "# bfs(g,0)\n",
    "\n",
    "def bfs(g,s):\n",
    "    q = [s]\n",
    "    vis = [s]\n",
    "    while q:\n",
    "        cur = q.pop(0)\n",
    "        print(cur)\n",
    "        for c in g[cur]:\n",
    "            if c not in vis:\n",
    "                q.append(c)\n",
    "                vis.append(c)\n",
    "\n",
    "bfs(g,0)\n",
    "\n",
    "def bfs(g,s):\n",
    "    q = [s]\n",
    "    vis = [s]\n",
    "    while(q):\n",
    "        cur = q.pop(0)\n",
    "        print(cur)\n",
    "        for c in g[cur]:\n",
    "            q.append(c)\n",
    "            vis.append(C)"
   ]
  },
  {
   "cell_type": "code",
   "execution_count": null,
   "id": "aec06f13-d6a5-4b63-84f6-ecd0c41ec96d",
   "metadata": {},
   "outputs": [],
   "source": []
  }
 ],
 "metadata": {
  "kernelspec": {
   "display_name": "Python 3 (ipykernel)",
   "language": "python",
   "name": "python3"
  },
  "language_info": {
   "codemirror_mode": {
    "name": "ipython",
    "version": 3
   },
   "file_extension": ".py",
   "mimetype": "text/x-python",
   "name": "python",
   "nbconvert_exporter": "python",
   "pygments_lexer": "ipython3",
   "version": "3.10.12"
  }
 },
 "nbformat": 4,
 "nbformat_minor": 5
}
