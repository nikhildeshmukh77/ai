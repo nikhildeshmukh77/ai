{
 "cells": [
  {
   "cell_type": "code",
   "execution_count": 2,
   "id": "0280f184-e6b6-45a5-a475-1a42e3561e15",
   "metadata": {},
   "outputs": [
    {
     "name": "stdin",
     "output_type": "stream",
     "text": [
      "Enter Number of Max Colors:  3\n",
      "Enter the numner of Edges 6\n",
      " 0 1\n",
      " 0 2\n",
      " 0 3\n",
      " 1 2\n",
      " 2 3\n",
      " 3 4\n"
     ]
    },
    {
     "name": "stdout",
     "output_type": "stream",
     "text": [
      "{0: 'Red', 1: 'Green', 2: 'Blue', 3: 'Green', 4: 'Red'}\n"
     ]
    }
   ],
   "source": [
    "m = int(input(\"Enter Number of Max Colors: \"))\n",
    "g = {}\n",
    "\n",
    "n = int(input(\"Enter the numner of Edges\"))\n",
    "\n",
    "for i in range(n):\n",
    "    a,b = map(int, input().split())\n",
    "    if g.get(a) == None:\n",
    "        g[a] = []\n",
    "    g[a].append(b)    \n",
    "    if g.get(b) == None:\n",
    "        g[b] = []\n",
    "    g[b].append(a) \n",
    "\n",
    "posCol = [\"Red\", \"Green\", \"Blue\", \"Pink\", \"Violet\", \"Yellow\", \"White\", \"Black\"]\n",
    "\n",
    "def canColour(g,n,col,colList):\n",
    "    for child in g[n]:\n",
    "        if colList[child] == posCol[col]:\n",
    "            return False\n",
    "    return True       \n",
    "        \n",
    "\n",
    "def graphColoring(g,m,v,n,colList):\n",
    "    if n == v:\n",
    "        return True\n",
    "\n",
    "    for col in range(m):\n",
    "        if canColour(g,n,col,colList):\n",
    "            colList[n] = posCol[col]\n",
    "            if graphColoring(g,m,v,n+1,colList) == True:\n",
    "                return True\n",
    "            colList[n] = -1\n",
    "\n",
    "colList = {}\n",
    "\n",
    "for i in g.keys():\n",
    "    colList[i] = -1\n",
    "\n",
    "if graphColoring(g,m,len(g.keys()),0,colList):\n",
    "    print(colList)\n",
    "else:\n",
    "    print(f\"Can't colour using m{{m}} colors\")"
   ]
  },
  {
   "cell_type": "code",
   "execution_count": null,
   "id": "a1e1a430-9aa6-434d-8014-13d6088deb92",
   "metadata": {},
   "outputs": [],
   "source": []
  },
  {
   "cell_type": "code",
   "execution_count": null,
   "id": "e5db5971-eeeb-4004-bcce-80ce5dae0bec",
   "metadata": {},
   "outputs": [],
   "source": []
  },
  {
   "cell_type": "code",
   "execution_count": null,
   "id": "6542b7e6-873c-402f-b2d8-d135d0963351",
   "metadata": {},
   "outputs": [],
   "source": []
  },
  {
   "cell_type": "code",
   "execution_count": null,
   "id": "563e4e8f-136c-4b2c-b38e-3edaa198134f",
   "metadata": {},
   "outputs": [],
   "source": [
    "import heapq\n",
    "\n",
    "class Graph:\n",
    "    def _init_(self, vertices):\n",
    "        self.vertices = vertices\n",
    "        self.graph = [[0 for _ in range(vertices)] for _ in range(vertices)]\n",
    "\n",
    "    def is_safe(self, v, color, c):\n",
    "        for i in range(self.vertices):\n",
    "            if self.graph[v][i] == 1 and color[i] == c:\n",
    "                return False\n",
    "        return True\n",
    "\n",
    "    def graph_coloring_backtracking(self, color_set):\n",
    "        color = [None] * self.vertices\n",
    "        self.graph_coloring_util_backtracking(color_set, color, 0)\n",
    "\n",
    "        num_colors_used = len(set(color))\n",
    "        print(\"Minimum number of colors used (Backtracking):\", num_colors_used)\n",
    "        print(\"Graph coloring:\")\n",
    "        for i, c in enumerate(color):\n",
    "            print(\"Vertex\", i, \"colored with:\", c)\n",
    "\n",
    "    def graph_coloring_util_backtracking(self, color_set, color, v):\n",
    "        if v == self.vertices:\n",
    "            return True\n",
    "\n",
    "        for c in color_set:\n",
    "            if self.is_safe(v, color, c):\n",
    "                color[v] = c\n",
    "                if self.graph_coloring_util_backtracking(color_set, color, v + 1):\n",
    "                    return True\n",
    "                color[v] = None\n",
    "\n",
    "    def graph_coloring_branch_and_bound(self, color_set):\n",
    "        def bound(v):\n",
    "            max_used_color = max(color[:v]) if v > 0 else 0\n",
    "            return max_used_color\n",
    "\n",
    "        def _graph_coloring():\n",
    "            # Priority queue to store (coloring, vertex) pairs based on the number of used colors\n",
    "            pq = [(0, [-1] * self.vertices)]\n",
    "\n",
    "            while pq:\n",
    "                used_colors, coloring = heapq.heappop(pq)\n",
    "\n",
    "                # Find the next vertex to color\n",
    "                v = coloring.index(-1) if -1 in coloring else self.vertices\n",
    "                if v == self.vertices:\n",
    "                    return coloring\n",
    "\n",
    "                for c in color_set:\n",
    "                    if self.is_safe(v, coloring, c):\n",
    "                        new_coloring = list(coloring)\n",
    "                        new_coloring[v] = c\n",
    "                        heapq.heappush(pq, (used_colors + 1, new_coloring))\n",
    "\n",
    "        coloring = _graph_coloring()\n",
    "        num_colors_used = len(set(coloring))\n",
    "        print(\"Minimum number of colors used (Branch and Bound):\", num_colors_used)\n",
    "        print(\"Graph coloring:\")\n",
    "        for i, c in enumerate(coloring):\n",
    "            print(\"Vertex\", i, \"colored with:\", c)\n",
    "\n",
    "\n",
    "def main():\n",
    "    vertices = int(input(\"Enter the number of vertices in the graph: \"))\n",
    "    g = Graph(vertices)\n",
    "\n",
    "    print(\"Enter the adjacency matrix of the graph:\")\n",
    "    for i in range(vertices):\n",
    "        row = list(map(int, input().split()))\n",
    "        for j in range(vertices):\n",
    "            g.graph[i][j] = row[j]\n",
    "    while(True): \n",
    "            \n",
    "            print(\"\\nSelect the method to solve the graph coloring problem:\")\n",
    "            print(\"1. Backtracking\")\n",
    "            print(\"2. Branch and Bound\")\n",
    "            choice = input(\"Enter your choice (1 or 2): \")\n",
    "        \n",
    "            if choice == '1':\n",
    "                color_set = input(\"Enter the set of colors separated by space: \").split()\n",
    "                g.graph_coloring_backtracking(color_set)\n",
    "            elif choice == '2':\n",
    "                color_set = input(\"Enter the set of colors separated by space: \").split()   \n",
    "                g.graph_coloring_branch_and_bound(color_set)\n",
    "            else:\n",
    "                print(\"Invalid choice. Please enter '1' or '2'.\")\n",
    "                \n",
    "            char = input(\"Do you wannna stop? (yes)\")\n",
    "            if(char == \"yes\"):\n",
    "                break\n",
    "        \n",
    "if __name__ == \"__main__\":\n",
    "    main()"
   ]
  },
  {
   "cell_type": "code",
   "execution_count": null,
   "id": "a2717adf-bc5e-47f8-a179-d8edee7a6884",
   "metadata": {},
   "outputs": [],
   "source": [
    "\n",
    "\n",
    "\n"
   ]
  },
  {
   "cell_type": "code",
   "execution_count": null,
   "id": "d0caa1c2-5f9a-4270-a4be-4ee60e97ad74",
   "metadata": {},
   "outputs": [],
   "source": []
  },
  {
   "cell_type": "code",
   "execution_count": null,
   "id": "1e1ccf9f-420e-4dd7-8ddf-ce7c2c895331",
   "metadata": {},
   "outputs": [],
   "source": []
  },
  {
   "cell_type": "code",
   "execution_count": 1,
   "id": "1b599506-201c-4004-83b5-70db199fdcad",
   "metadata": {},
   "outputs": [
    {
     "name": "stdin",
     "output_type": "stream",
     "text": [
      "Choose method (1: Backtracking, 2: Branch and Bound):  1\n"
     ]
    },
    {
     "ename": "NameError",
     "evalue": "name 'g' is not defined",
     "output_type": "error",
     "traceback": [
      "\u001b[0;31m---------------------------------------------------------------------------\u001b[0m",
      "\u001b[0;31mNameError\u001b[0m                                 Traceback (most recent call last)",
      "Cell \u001b[0;32mIn[1], line 75\u001b[0m\n\u001b[1;32m     72\u001b[0m choice \u001b[38;5;241m=\u001b[39m \u001b[38;5;28minput\u001b[39m(\u001b[38;5;124m\"\u001b[39m\u001b[38;5;124mChoose method (1: Backtracking, 2: Branch and Bound): \u001b[39m\u001b[38;5;124m\"\u001b[39m)\n\u001b[1;32m     74\u001b[0m \u001b[38;5;28;01mif\u001b[39;00m choice \u001b[38;5;241m==\u001b[39m \u001b[38;5;124m\"\u001b[39m\u001b[38;5;124m1\u001b[39m\u001b[38;5;124m\"\u001b[39m:\n\u001b[0;32m---> 75\u001b[0m     \u001b[38;5;28;01mif\u001b[39;00m graph_coloring(\u001b[43mg\u001b[49m, m, \u001b[38;5;28mlen\u001b[39m(g), \u001b[38;5;241m0\u001b[39m, colList):\n\u001b[1;32m     76\u001b[0m         \u001b[38;5;28mprint\u001b[39m(colList)\n\u001b[1;32m     77\u001b[0m     \u001b[38;5;28;01melse\u001b[39;00m:\n",
      "\u001b[0;31mNameError\u001b[0m: name 'g' is not defined"
     ]
    }
   ],
   "source": []
  },
  {
   "cell_type": "code",
   "execution_count": null,
   "id": "c6e387e6-54e2-47f1-9209-152144479462",
   "metadata": {},
   "outputs": [],
   "source": []
  }
 ],
 "metadata": {
  "kernelspec": {
   "display_name": "Python 3 (ipykernel)",
   "language": "python",
   "name": "python3"
  },
  "language_info": {
   "codemirror_mode": {
    "name": "ipython",
    "version": 3
   },
   "file_extension": ".py",
   "mimetype": "text/x-python",
   "name": "python",
   "nbconvert_exporter": "python",
   "pygments_lexer": "ipython3",
   "version": "3.10.12"
  }
 },
 "nbformat": 4,
 "nbformat_minor": 5
}
